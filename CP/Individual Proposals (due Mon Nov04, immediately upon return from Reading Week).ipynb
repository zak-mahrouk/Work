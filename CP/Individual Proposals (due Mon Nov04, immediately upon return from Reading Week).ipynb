{
 "cells": [
  {
   "cell_type": "code",
   "execution_count": 1,
   "id": "737d03ed",
   "metadata": {
    "scrolled": true
   },
   "outputs": [
    {
     "data": {
      "image/jpeg": "[encoded data removed]",
      "text/html": [
       "\n",
       "        <iframe\n",
       "            width=\"800\"\n",
       "            height=\"500\"\n",
       "            src=\"https://www.youtube.com/embed/rmuRoAf9-bo\"\n",
       "            frameborder=\"0\"\n",
       "            allowfullscreen\n",
       "            \n",
       "        ></iframe>\n",
       "        "
      ],
      "text/plain": [
       "<IPython.lib.display.YouTubeVideo at 0x7fc7393bf4d0>"
      ]
     },
     "execution_count": 1,
     "metadata": {},
     "output_type": "execute_result"
    }
   ],
   "source": [
    "from IPython.display import YouTubeVideo\n",
    "YouTubeVideo('rmuRoAf9-bo', width=800, height=500)"
   ]
  },
  {
   "cell_type": "markdown",
   "id": "1467002c",
   "metadata": {},
   "source": [
    "# Individual Proposals (due Mon Nov04, immediately upon return from Reading Week)"
   ]
  },
  {
   "cell_type": "markdown",
   "id": "56dd4c44",
   "metadata": {},
   "source": [
    "- When looking down at the topic of social construct and its interwoven effects on society, it seems like a daunting task which is quite complex to draw connections between topics that might seem isolated or even outright unrelated. though I plan to bring together ideas that might seem far from correlation, though within they fide deep and intricate association."
   ]
  },
  {
   "cell_type": "markdown",
   "id": "25044912",
   "metadata": {},
   "source": [
    "### NOTE: All these proposals even though we are trying to prove a thesis we should also be aware that we can never be 100% sure that our results are correct since we aren't using a population but rather a sample. but we can make a very educated statistical analysis of what is most plausibly happening."
   ]
  },
  {
   "cell_type": "markdown",
   "id": "15050e26",
   "metadata": {},
   "source": [
    "## Proposal 1:"
   ]
  },
  {
   "cell_type": "markdown",
   "id": "ebefe8e5",
   "metadata": {},
   "source": [
    "### How does socioeconomic status (SES) influence the social involvement of individuals?"
   ]
  },
  {
   "cell_type": "markdown",
   "id": "b16508f8",
   "metadata": {},
   "source": [
    "#### Variables:"
   ]
  },
  {
   "cell_type": "markdown",
   "id": "194afd26",
   "metadata": {},
   "source": [
    "- Independent variable(variable):socioeconomic status (SES), this will be correlated as in your income per year or families income and family education.(high,medium, working, low) note you can also assume this information through the area median income (AMI) of an area."
   ]
  },
  {
   "cell_type": "markdown",
   "id": "464beb82",
   "metadata": {},
   "source": [
    "- Dependent variable(observation): How socially active is the individual by how many hours weekly they spend socializing with individuals (i.e., family time, time spent with friends, talking with strangers)."
   ]
  },
  {
   "cell_type": "markdown",
   "id": "2add4aba",
   "metadata": {},
   "source": [
    "#### Motivation:"
   ]
  },
  {
   "cell_type": "markdown",
   "id": "1faaedae",
   "metadata": {},
   "source": [
    "- To understand what might be the cause for individuals to be socially isolated, leaving them unable to interact with society in a healthy manner due to variables out of their control. Which will help solve many social issues that might be caused from social isolation. As the saying goes, understanding the problem is half the answer."
   ]
  },
  {
   "cell_type": "markdown",
   "id": "7d23e242",
   "metadata": {},
   "source": [
    "#### Planned Analysis:"
   ]
  },
  {
   "cell_type": "markdown",
   "id": "1493b91b",
   "metadata": {},
   "source": [
    "- Conduct a bootstrap on the sample to simulate a population. that will produce a confidence interval in which we can display that we can reject the null hypothesis. estimate confidence intervals for the mean social involvement within each SES category, providing insights into the variability we get through of the social involvement across different SES levels. We can also assess the stability of relationships. We also get a nonparametric piece of data,making it suitable for skewed or irregular distributions, which are common in social science data."
   ]
  },
  {
   "cell_type": "markdown",
   "id": "5b85ad69",
   "metadata": {},
   "source": [
    "- Conduct a simple linear regression of socioeconomic status (SES) and social involvement(in weeks). We then use correlation matrices and scatter plots to visualize their relation between the two variables, and include regression lines to illustrate trends."
   ]
  },
  {
   "cell_type": "markdown",
   "id": "346327d7",
   "metadata": {},
   "source": [
    "#### Visualization:"
   ]
  },
  {
   "cell_type": "markdown",
   "id": "0808beff",
   "metadata": {},
   "source": [
    "- Bar chart for the bootstrap to display the mean of all the samples and demonstrate the confidence interval of which we can get a plausible estimate of the average mean for all the different samples."
   ]
  },
  {
   "cell_type": "markdown",
   "id": "e090fd90",
   "metadata": {},
   "source": [
    "- Scatter plots to display the socioeconomic status (SES) scores versus social involvement per week, then we might want to isolate the different types of connection (e.g., family vs. friends) so we can have a better insight into the data."
   ]
  },
  {
   "cell_type": "markdown",
   "id": "ca223f66",
   "metadata": {},
   "source": [
    "#### Hypothesis: "
   ]
  },
  {
   "cell_type": "markdown",
   "id": "22f7f943",
   "metadata": {},
   "source": [
    "- Stronger social interactions are hypothesized to correlate with socioeconomic status (SES) level, indicating lower levels of socioeconomic status (SES) cause a higher social isolation ."
   ]
  },
  {
   "cell_type": "markdown",
   "id": "12331422",
   "metadata": {},
   "source": [
    "#### Expected Results and Interpretation:"
   ]
  },
  {
   "cell_type": "markdown",
   "id": "16345527",
   "metadata": {},
   "source": [
    "- We expect to find a direct correlation between the socioeconomic status (SES) and the social involvement (hours per week) for individuals. This will be proven if we see a positive correlation of the two variables.\n"
   ]
  },
  {
   "cell_type": "markdown",
   "id": "74462fa1",
   "metadata": {},
   "source": [
    "- If we were to get a negative correlation, this could imply that a higher increased social connections reduces the amount of social involvement. Null findings would also be insightful in identifying that (certain or all social connections may not directly correlate with the socioeconomic status (SES) of an individual."
   ]
  },
  {
   "cell_type": "markdown",
   "id": "6731ad18",
   "metadata": {},
   "source": [
    "- Results will be summarized into a non-technical format to be understood by the general public, but also be accessible to ensure clarity for the benefit of the common individual. To display that individuals who come from lower socioeconomic status (SES) aren't alone and give them pathways to better improve their social connectivity."
   ]
  },
  {
   "cell_type": "markdown",
   "id": "23343b30",
   "metadata": {},
   "source": [
    "#### Communication of findings:"
   ]
  },
  {
   "cell_type": "markdown",
   "id": "11015551",
   "metadata": {},
   "source": [
    "- The proposal I displayed includes well-structured and non-technical language. With great emphasis for visually supporting the different findings, and maintaining clarity for the common viewer, enabling our audiences to understand the causes of their isolation and might highlight an issue they might have seen as a factor no one can connect to. I am here to display the contrary and shed some light on an issue that might be overlooked."
   ]
  },
  {
   "cell_type": "markdown",
   "id": "d16ce359",
   "metadata": {},
   "source": [
    "## Proposal 2:"
   ]
  },
  {
   "cell_type": "markdown",
   "id": "ef8966c4",
   "metadata": {},
   "source": [
    "### To what Effect does online gaming use effect Life satisfaction?"
   ]
  },
  {
   "cell_type": "markdown",
   "id": "220cef98",
   "metadata": {},
   "source": [
    "#### variables:"
   ]
  },
  {
   "cell_type": "markdown",
   "id": "e0ceea41",
   "metadata": {},
   "source": [
    "- Independent variable(variable): Hours spent gaming over three monthly, this will be extracted from the survey question \"In the PAST THREE MONTH, how often have you…\"."
   ]
  },
  {
   "cell_type": "markdown",
   "id": "2864420f",
   "metadata": {},
   "source": [
    "- Dependent variable(observation): How satisfied the individual is with their life. This will be measured in 10 levels from 1 to 10 \"On a scale of 1 to 10, How do you feel about your life as a whole right now?\"."
   ]
  },
  {
   "cell_type": "markdown",
   "id": "b476485c",
   "metadata": {},
   "source": [
    "#### Motivation:"
   ]
  },
  {
   "cell_type": "markdown",
   "id": "5ce8ff2f",
   "metadata": {},
   "source": [
    "- we came to understand that games were meant to be used as a means to cool off after having a rough day/week. Like all gamers like myself I would like to bring some light that after finishing a round of a game i feel more depressed than when i first started. Though this is not meant to bring criticism towards the gaming culture, it is meant for people who suffer from lack of life satisfaction to maybe take the path of not gaming for a few days or weeks as it might be the cause for their depression."
   ]
  },
  {
   "cell_type": "markdown",
   "id": "78cbbf15",
   "metadata": {},
   "source": [
    "#### Planned Analysis:"
   ]
  },
  {
   "cell_type": "markdown",
   "id": "7b5a9834",
   "metadata": {},
   "source": [
    "- Conducting a boot strap on the sample of data of which we can simulate a population of gamers and their average life satisfaction. This will also give us a confidence interval to visualize what the average life satisfaction of the gamer community might look like. We also assess the stability of relationships. We also get a nonparametric piece of data,making it suitable for skewed or irregular distributions, which are common in social science data."
   ]
  },
  {
   "cell_type": "markdown",
   "id": "315e41ab",
   "metadata": {},
   "source": [
    "- Conduct a simple linear regression of socioeconomic status (SES) and social involvement(in weeks). We then use correlation matrices and scatter plots to visualize their relation between the two variables, and include regression lines to illustrate trends. giving clear evidence if there were to be a direct correlation between the variables points."
   ]
  },
  {
   "cell_type": "markdown",
   "id": "a378a13b",
   "metadata": {},
   "source": [
    "#### Visualization:"
   ]
  },
  {
   "cell_type": "markdown",
   "id": "91728425",
   "metadata": {},
   "source": [
    "- To show each sample's mean and confidence interval, we will use the bootstrap samples to build a bar chart. We can better comprehend the variety and stability of the data thanks to this representation, which offers a believable estimate of the average mean over all samples. The audience may better understand the possible relationship between these variables thanks to this graphic, which also provides insight into the relationship between gaming hours and life satisfaction. By use bootstrapping, we improve the interpretability of the relationship shown in the data by giving viewers a clearer visual representation of the data and enabling them to understand the estimated range that the genuine population mean most likely lies within."
   ]
  },
  {
   "cell_type": "markdown",
   "id": "05b871b9",
   "metadata": {},
   "source": [
    "- Through the use of scatter plots we will illustrate the simple linear relation between gaming and life satisfaction. This representation will allow us to demonstrate the potential trends or patterns that might appear between the two factors. By plotting individual data points, it also give the viewer a clear visual of the data being used, and the level of life satisfaction in correlation with the amount of hours spent gaming. We have then provided a nuanced view of the data, making the viewer have a easier time identifying clusters, trends, or outliers that could offer valuable insights for further investigation."
   ]
  },
  {
   "cell_type": "markdown",
   "id": "6d3ed5cd",
   "metadata": {},
   "source": [
    "#### Hypothesis:"
   ]
  },
  {
   "cell_type": "markdown",
   "id": "3751f468",
   "metadata": {},
   "source": [
    "- We forecast to observe a direct correlation between the two variables, though the outcome could manifest to be in two different outcomes. We might see that as the hours of gaming increase, we see a greater life satisfaction, suggesting that gaming is truly a way to achieve a greater satisfaction in your life. Though the opposite might manifest to be true also, proving that there might be a direct correlation of gaming hours and lack of life satisfaction. though overall we expect to witness some sort of correlation between these two variables. Regardless of the Outcome, we expect to identify a notable correlation between these variables, offering insights into how gaming behaviors influence life satisfaction."
   ]
  },
  {
   "cell_type": "markdown",
   "id": "467a4a26",
   "metadata": {},
   "source": [
    "#### Expected Results and Interpretation:"
   ]
  },
  {
   "cell_type": "markdown",
   "id": "863b4f2d",
   "metadata": {},
   "source": [
    "- The first outcome could be that there is a positive direct linear correlation between hours spent gaming, hinting at the likelihood of gaming causing an increase in life satisfaction."
   ]
  },
  {
   "cell_type": "markdown",
   "id": "7034cfdc",
   "metadata": {},
   "source": [
    "- The second outcome could be a negative correlation where we see the decrease of life satisfaction as the hours of gaming tick up. Hinting to undesired outcome for the inquiry that gaming causes a negative effect towards the life satisfaction of an individual."
   ]
  },
  {
   "cell_type": "markdown",
   "id": "088bc979",
   "metadata": {},
   "source": [
    "- The last outcome could be that there is no correlation whatsoever, hence gaming has no negative nor positive correlation of how satisfied an individual could be with their life."
   ]
  },
  {
   "cell_type": "markdown",
   "id": "40d477b9",
   "metadata": {},
   "source": [
    "#### Communication of findings: "
   ]
  },
  {
   "cell_type": "markdown",
   "id": "272bf7a6",
   "metadata": {},
   "source": [
    "- I see myself portraying this data through interactive graphs easy to be analyzed and comprehended by a common observer with no background in the field of statistics, This data when analyzed could prove or disprove many misconceptions about gaming and the many negative or positive connotations associated with it. As the gaming community continues to grow, I find it detrimental to communicate these findings in an interactive manner similar to games, where you are not just reading information but rather interacting with it through apps and pop ups or even videos."
   ]
  },
  {
   "cell_type": "markdown",
   "id": "2679bb1b",
   "metadata": {},
   "source": [
    "## Proposal 3:"
   ]
  },
  {
   "cell_type": "markdown",
   "id": "f6bac7ac",
   "metadata": {},
   "source": [
    "### Does a longer commute to and from work/school lead to less social interaction?"
   ]
  },
  {
   "cell_type": "markdown",
   "id": "312fdbba",
   "metadata": {},
   "source": [
    "#### variables:"
   ]
  },
  {
   "cell_type": "markdown",
   "id": "b51afc79",
   "metadata": {},
   "source": [
    "- Independent variable(variable): This will be measured as in the hours spent commuting to and from school/work (daily). This variable will be collected from the question \"How many minutes does it usually take you to get from home to work or school?\"."
   ]
  },
  {
   "cell_type": "markdown",
   "id": "b649d24c",
   "metadata": {},
   "source": [
    "- Dependent variable(observation): How many hours were spent socializing with individuals (hours weekly).Note: it's the sum of all the hours spent socializing with all groups in CSCS survey."
   ]
  },
  {
   "cell_type": "markdown",
   "id": "7442574d",
   "metadata": {},
   "source": [
    "#### Motivation:"
   ]
  },
  {
   "cell_type": "markdown",
   "id": "7da0d483",
   "metadata": {},
   "source": [
    "- As many of us commute daily to and from school/work and the hours spent commuting only seem to be increasing it's only logical we understand its effects on our lives. Though since socializing is an important aspect of a humans life we want to explore the idea of a direct correlation between these two variables. The results from this inquiry might encourage individuals to reconsider their commute and look for a more balanced approach to their commute."
   ]
  },
  {
   "cell_type": "markdown",
   "id": "f30d3579",
   "metadata": {},
   "source": [
    "#### Planned Analysis:"
   ]
  },
  {
   "cell_type": "markdown",
   "id": "da12f595",
   "metadata": {},
   "source": [
    "- To examine the connection between a person's commute time and the number of hours they spend socializing, I will perform a linear regression. This will assist in establishing whether the amount of time spent commuting and social interaction are directly correlated. We will show the distribution of weekly social contact hours and daily commute hours by making a density plot or histogram.The understanding of the regression results will be supported by these visualizations, which will offer insights into the central tendencies and spread of each variable.- To examine the connection between a person's commute time and the number of hours they spend socializing, I will perform a linear regression. This will assist in establishing whether the amount of time spent commuting and social interaction are directly correlated."
   ]
  },
  {
   "cell_type": "markdown",
   "id": "068a40f3",
   "metadata": {},
   "source": [
    "- In order to mimic a population, I will also create a bootstrap model by creating several resampled datasets. This method will provide us a better visual representation of these interactions by enabling us to compute a confidence interval for the average weekly hours spent socializing in comparison to the daily hours spent commuting. Additionally, because we can observe how these averages change between resamples, bootstrapping allows us to evaluate the stability of the association between socializing time and commuting. Our methodology is especially suitable for bootstrapping since it is non-parametric and works well with skewed or irregular distributions, which are frequently present in social science data."
   ]
  },
  {
   "cell_type": "markdown",
   "id": "a8849d75",
   "metadata": {},
   "source": [
    "#### Visualization:"
   ]
  },
  {
   "cell_type": "markdown",
   "id": "b38fee6b",
   "metadata": {},
   "source": [
    "- In order to provide a credible estimate of the overall average for the variable over many resampled datasets, we will use the bootstrap samples to generate a bar chart that shows the mean of each sample along with confidence intervals. The stability of the calculated average will be demonstrated by this visualization, which will let us see the variability and spread of the means. The range that the genuine population mean is most likely to fall within can be inferred from the confidence interval around the mean. Additionally, by displaying patterns or variations in means across samples, this chart can assist us in evaluating any correlation—if any—between the two variables. helping visualize the correlation of the hours spent commuting and the time spent socializing weekly."
   ]
  },
  {
   "cell_type": "markdown",
   "id": "53e750f7",
   "metadata": {},
   "source": [
    "- We then provide a scatter plot to visualize the distribution of the hours spent socializing weekly in contrast to the hours spent commuting daily. This representation will demonstrate the potential trends or patterns that might appear between the two factors. By plotting individual data points, will give the viewer a clear visual of the data being used, and the hours spent socializing weekly and the hours spent commuting daily. We have then provided a nuanced view of the data, making the viewer have an easier time identifying clusters, trends, or outliers that could offer valuable insights for further investigation."
   ]
  },
  {
   "cell_type": "markdown",
   "id": "b237ed6e",
   "metadata": {},
   "source": [
    "#### Hypothesis:"
   ]
  },
  {
   "cell_type": "markdown",
   "id": "a3deef6b",
   "metadata": {},
   "source": [
    "- We expect the amount of time spent socializing each week to be directly correlated with the amount of time spent commuting. Nonetheless, there are two possible paths the data can prove to be true for this interaction. Although improbable, it is possible that longer commutes could result in more social engagement,hence the variables will have  a positive correlation. What seems as a more plausible outcome, is as the time spent commuting increases the time spent socializing will decrease, hence a negative correlation between the two variables."
   ]
  },
  {
   "cell_type": "markdown",
   "id": "4e2f2b2a",
   "metadata": {},
   "source": [
    "#### Expected Results and Interpretation:"
   ]
  },
  {
   "cell_type": "markdown",
   "id": "67a65a33",
   "metadata": {},
   "source": [
    "- The first outcome could be that there is a positive direct linear correlation between hours spent commuting, hinting at the likelihood of computing causing an increase in hours of social interactions."
   ]
  },
  {
   "cell_type": "markdown",
   "id": "10634430",
   "metadata": {},
   "source": [
    "\n",
    "- The second outcome could be a negative correlation where we see the decrease of social interaction weekly as the hours of commuting tick up. Hinting to the outcome of commuting possibly causes a negative effect towards the social interaction of an individual.\n"
   ]
  },
  {
   "cell_type": "markdown",
   "id": "e05d0800",
   "metadata": {},
   "source": [
    "- The last possible outcome is that there is no correlation between the two variables in which our hypothesis is null and we prove our hypothesis to be likely false."
   ]
  },
  {
   "cell_type": "markdown",
   "id": "18dc3194",
   "metadata": {},
   "source": [
    "#### Communication of findings:"
   ]
  },
  {
   "cell_type": "markdown",
   "id": "44d4da46",
   "metadata": {},
   "source": [
    "- I see myself portraying this data through interactive graphs easy to be analyzed and comprehended by a common observer with no background in the field of statistics, This data when analyzed could have some negative connotations to prolonged commuting . As the commuting time is becoming a greater issue, I find it detrimental to communicate these findings in an interactive manner similar of which the common public will understand the effects of commuting is causing and  show a visual, where you are not just reading information but rather interacting with it through apps and pop ups or even videos. To give a viewing lens of what they might be missing out on if they just cut down on commuting times, but also for city planners to better understand the effects of commuting the quality of life for all of society. Helping build better awareness of a grown issue."
   ]
  },
  {
   "cell_type": "markdown",
   "id": "e2960708",
   "metadata": {},
   "source": [
    "## The End!"
   ]
  },
  {
   "cell_type": "markdown",
   "id": "27c49f6b",
   "metadata": {},
   "source": [
    "Thanks for reading through my proposal, I hope it gives insight into what I believe would be critical issues that can be answered through the use of CSCS surveys and the analysis of the data."
   ]
  }
 ],
 "metadata": {
  "kernelspec": {
   "display_name": "Python 3 (ipykernel)",
   "language": "python",
   "name": "python3"
  },
  "language_info": {
   "codemirror_mode": {
    "name": "ipython",
    "version": 3
   },
   "file_extension": ".py",
   "mimetype": "text/x-python",
   "name": "python",
   "nbconvert_exporter": "python",
   "pygments_lexer": "ipython3",
   "version": "3.11.6"
  }
 },
 "nbformat": 4,
 "nbformat_minor": 5
}
